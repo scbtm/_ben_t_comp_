{
 "cells": [
  {
   "cell_type": "code",
   "execution_count": null,
   "metadata": {},
   "outputs": [],
   "source": [
    "%load_ext autoreload\n",
    "%autoreload 2"
   ]
  },
  {
   "cell_type": "code",
   "execution_count": null,
   "metadata": {},
   "outputs": [],
   "source": [
    "#from experiment_tools import *\n",
    "from pix2struct import *\n",
    "PROMPT_TOKEN = \"<|PROMPT|>\"\n",
    "X_START = \"<x_start>\"\n",
    "X_END = \"<x_end>\"\n",
    "Y_START = \"<y_start>\"\n",
    "Y_END = \"<y_end>\"\n",
    "\n",
    "SEPARATOR_TOKENS = [PROMPT_TOKEN,\n",
    "                    X_START,\n",
    "                    X_END,\n",
    "                    Y_START,\n",
    "                    Y_END]\n",
    "\n",
    "LINE_TOKEN =  \"<line>\" \n",
    "VERTICAL_BAR_TOKEN = \"<vertical_bar>\"\n",
    "HORIZONTAL_BAR_TOKEN = \"<horizontal_bar>\"\n",
    "SCATTER_TOKEN = \"<scatter>\"\n",
    "DOT_TOKEN = \"<dot>\"\n",
    "\n",
    "CHART_TYPE_TOKENS = [LINE_TOKEN,\n",
    "                    VERTICAL_BAR_TOKEN,\n",
    "                    HORIZONTAL_BAR_TOKEN,\n",
    "                    SCATTER_TOKEN,\n",
    "                    DOT_TOKEN]\n",
    "\n",
    "new_tokens = SEPARATOR_TOKENS + CHART_TYPE_TOKENS"
   ]
  },
  {
   "cell_type": "code",
   "execution_count": null,
   "metadata": {},
   "outputs": [],
   "source": [
    "data_config = DataConfig(path = 'data')\n",
    "dt = DataTools(data_config)"
   ]
  },
  {
   "cell_type": "code",
   "execution_count": null,
   "metadata": {},
   "outputs": [],
   "source": [
    "experiment = ModelExperiment(experiment_name='pix2struct_base', \n",
    "                             data_config = data_config,\n",
    "                             )"
   ]
  },
  {
   "cell_type": "code",
   "execution_count": null,
   "metadata": {},
   "outputs": [],
   "source": [
    "dataset = dt.build_dataset(stage='dev', sample_size=20, train_val_split=0.8)\n",
    "train_data, val_data = dataset['train'], dataset['val']"
   ]
  },
  {
   "cell_type": "code",
   "execution_count": null,
   "metadata": {},
   "outputs": [],
   "source": [
    "train_data[0]"
   ]
  },
  {
   "cell_type": "code",
   "execution_count": null,
   "metadata": {},
   "outputs": [],
   "source": [
    "lora_config = dict({'r':16,\n",
    "                   'lora_alpha':16,\n",
    "                   'target_modules':[\"query\", \"value\"],\n",
    "                     'lora_dropout':0.1,\n",
    "                        'bias':\"none\"\n",
    "                        })\n",
    "generator = CaptionGenerator(device='cpu',\n",
    "                             lora_config=None)#lora_config)"
   ]
  },
  {
   "cell_type": "code",
   "execution_count": null,
   "metadata": {},
   "outputs": [],
   "source": [
    "#generator.load_model(use_peft=True,  additional_tokens=new_tokens)\n",
    "generator.load_model(use_peft=False, additional_tokens=new_tokens)"
   ]
  },
  {
   "cell_type": "code",
   "execution_count": null,
   "metadata": {},
   "outputs": [],
   "source": [
    "experiment.train_model(generator = generator,\n",
    "                       train_dataset = train_data,\n",
    "                       epochs = 1,\n",
    "                       batch_size = 2,\n",
    "                       NUM_ACCUMULATION_STEPS=8)"
   ]
  },
  {
   "cell_type": "code",
   "execution_count": null,
   "metadata": {},
   "outputs": [],
   "source": [
    "#generator.model.print_trainable_parameters()"
   ]
  },
  {
   "cell_type": "code",
   "execution_count": null,
   "metadata": {},
   "outputs": [],
   "source": [
    "train_data[0]"
   ]
  },
  {
   "cell_type": "code",
   "execution_count": null,
   "metadata": {},
   "outputs": [],
   "source": []
  }
 ],
 "metadata": {
  "kernelspec": {
   "display_name": "envai",
   "language": "python",
   "name": "python3"
  },
  "language_info": {
   "codemirror_mode": {
    "name": "ipython",
    "version": 3
   },
   "file_extension": ".py",
   "mimetype": "text/x-python",
   "name": "python",
   "nbconvert_exporter": "python",
   "pygments_lexer": "ipython3",
   "version": "3.11.2"
  },
  "orig_nbformat": 4
 },
 "nbformat": 4,
 "nbformat_minor": 2
}
